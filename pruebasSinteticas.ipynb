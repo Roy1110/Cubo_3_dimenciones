{
 "cells": [
  {
   "cell_type": "markdown",
   "id": "46b313a6",
   "metadata": {},
   "source": [
    "Este archivo fue creado con la finalidad de modificar \"Mental Health Dataset\" y colocar edades en base a la informacion relacionada con los demas datasets "
   ]
  },
  {
   "cell_type": "code",
   "execution_count": null,
   "id": "e2cfe0a9",
   "metadata": {
    "vscode": {
     "languageId": "plaintext"
    }
   },
   "outputs": [],
   "source": []
  }
 ],
 "metadata": {
  "language_info": {
   "name": "python"
  }
 },
 "nbformat": 4,
 "nbformat_minor": 5
}
